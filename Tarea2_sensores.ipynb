{
 "cells": [
  {
   "cell_type": "code",
   "execution_count": 1,
   "metadata": {},
   "outputs": [],
   "source": [
    "import numpy as np\n",
    "import matplotlib.pyplot as plt"
   ]
  },
  {
   "cell_type": "code",
   "execution_count": 9,
   "metadata": {},
   "outputs": [
    {
     "name": "stdout",
     "output_type": "stream",
     "text": [
      "('x=', -4.84596380699126, 'y=', -10.841200966127493, 'z=', -4.840858152333915)\n",
      "None\n"
     ]
    }
   ],
   "source": [
    "a=6378137.0\n",
    "f=1.0/298.57223563\n",
    "e=np.sqrt(2.0*f-f**2)\n",
    "\n",
    "\n",
    "def wgs2xyz(lat,lon,h,a,f):\n",
    "    N=a/(np.sqrt(1-e**2*(np.sin(lat))**2))\n",
    "    X=(N+h)*np.cos(lat)*np.cos(lon)\n",
    "    Y=(N+h)*np.cos(lat)*np.sin(lon)\n",
    "    Z=((1-e**2)*N+h)*np.cos(lat)*np.cos(lon)\n",
    "    \n",
    "    print((\"x=\", X, \"y=\", Y, \"z=\", Z))\n",
    "\n",
    "print (wgs2xyz(40.0,20.0,15.0,2.8,f))"
   ]
  },
  {
   "cell_type": "code",
   "execution_count": null,
   "metadata": {},
   "outputs": [],
   "source": []
  }
 ],
 "metadata": {
  "kernelspec": {
   "display_name": "Python 3",
   "language": "python",
   "name": "python3"
  },
  "language_info": {
   "codemirror_mode": {
    "name": "ipython",
    "version": 3
   },
   "file_extension": ".py",
   "mimetype": "text/x-python",
   "name": "python",
   "nbconvert_exporter": "python",
   "pygments_lexer": "ipython3",
   "version": "3.6.6"
  }
 },
 "nbformat": 4,
 "nbformat_minor": 2
}
