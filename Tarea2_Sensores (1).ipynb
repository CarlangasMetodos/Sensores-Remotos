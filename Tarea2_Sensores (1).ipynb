{
 "cells": [
  {
   "cell_type": "code",
   "execution_count": 12,
   "metadata": {},
   "outputs": [],
   "source": [
    "import numpy as np\n",
    "import matplotlib.pyplot as plt\n"
   ]
  },
  {
   "cell_type": "code",
   "execution_count": 13,
   "metadata": {},
   "outputs": [
    {
     "name": "stdout",
     "output_type": "stream",
     "text": [
      "('x=', 1749954.115056831, 'y=', -6117082.096432795, 'z=', 481876.1898112222)\n",
      "None\n"
     ]
    }
   ],
   "source": [
    "#Desarrollo parte A punto 3\n",
    "\n",
    "a=6378137.0\n",
    "f=1.0/298.57223563\n",
    "\n",
    "#e=np.sqrt(2.0*f-f**2)\n",
    "\n",
    "\n",
    "def wgs2xyz(lat,lon,h,a,f):\n",
    "    \n",
    "    latitud=np.deg2rad(lat)\n",
    "    longitud=np.deg2rad(lon)\n",
    "    b=a-a*f\n",
    "    e=np.sqrt((a**2-b**2)/(a**2))\n",
    "    N=a/(np.sqrt(1-(e**2)*(np.sin(latitud))**2))\n",
    "    X=(N+h)*np.cos(latitud)*np.cos(longitud)\n",
    "    Y=(N+h)*np.cos(latitud)*np.sin(longitud)\n",
    "    Z=(((1-(e**2))*N)+h)*np.sin(latitud)\n",
    "    \n",
    "    print((\"x=\", X, \"y=\", Y, \"z=\", Z))\n",
    "\n",
    "print (wgs2xyz(4.360192,-74.035413,2678,a,f))"
   ]
  },
  {
   "cell_type": "code",
   "execution_count": 14,
   "metadata": {},
   "outputs": [],
   "source": [
    "# Solamente me falta la resta entre el Franco y el Juan Valdez y dar el dato de las coordenadas, dado que el Google Earth\n",
    "# Ya me bota el dato en UTM "
   ]
  },
  {
   "cell_type": "code",
   "execution_count": null,
   "metadata": {},
   "outputs": [],
   "source": []
  }
 ],
 "metadata": {
  "kernelspec": {
   "display_name": "Python 3",
   "language": "python",
   "name": "python3"
  },
  "language_info": {
   "codemirror_mode": {
    "name": "ipython",
    "version": 3
   },
   "file_extension": ".py",
   "mimetype": "text/x-python",
   "name": "python",
   "nbconvert_exporter": "python",
   "pygments_lexer": "ipython3",
   "version": "3.6.6"
  }
 },
 "nbformat": 4,
 "nbformat_minor": 2
}
